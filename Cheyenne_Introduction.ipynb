{
 "cells": [
  {
   "cell_type": "markdown",
   "metadata": {},
   "source": [
    "# Interactive Jupyter Notebooks Documentation"
   ]
  },
  {
   "cell_type": "markdown",
   "metadata": {},
   "source": [
    "## Cheyenne Introduction to Cheyenne for New users"
   ]
  },
  {
   "cell_type": "markdown",
   "metadata": {},
   "source": [
    "<p>Constructed from the materials from Brian Vanderwende of the Consulting Services Group at the National Center for Atmospheric Research</p>"
   ]
  },
  {
   "cell_type": "markdown",
   "metadata": {},
   "source": [
    "<p>Authors: Brian Vanderwende, Thomas Johnson III</p>"
   ]
  },
  {
   "cell_type": "code",
   "execution_count": null,
   "metadata": {},
   "outputs": [],
   "source": [
    "#Reference https://github.com/takluyver/bash_kernel\n",
    "#Commands to install Bash Kernel for Jupyter Lab\n",
    "# $ pip install bash_kernel\n",
    "# $ python -m bash_kernel.install\n",
    "# css display property for putting divs side by side: https://stackoverflow.com/questions/2637696/how-to-place-div-side-by-side/24292602"
   ]
  },
  {
   "cell_type": "markdown",
   "metadata": {},
   "source": [
    "<div style=\"background-color:#84d0ff;z-index:-1; border-radius:15px;border-style:solid;border-color:#84d0ff;\">\n",
    "<h2 style=\"text-align:center;background-color:#84d0ff;\">Overview of Tutorial</h2>\n",
    "<div style=\"border-color:#84d0ff; border-style:solid; background-color:white; border-radius:15px; padding:5px\">\n",
    "This tutorial will cover the accessing and utiizing Cheyenne's resources for new users. The tutorial is facilitated through the usage of Jupyter Notebooks that allow for the code in select cells to be ran interactively. This notebook is written in the Bash kernel, so bash cammands will be what the Jupyter Notebook is responsive to.\n",
    "This tutorial will cover:\n",
    "<ul>\n",
    "<li>Signing into the HPC Systems and Managing Data</li>\n",
    "<li>Accessing and building software</li>\n",
    "<li>Submitting jobs utilizing the PBS and Slurm schedulers</li>\n",
    "<li>Customizing your user environment</li>\n",
    "</ul>\n",
    "For a more in-depth collection of user details, please refer to <a href=\"https://www2.cisl.ucar.edu/resources/resources-overview\"> https://www2.cisl.ucar.edu/resources/resources-overview<a>.\n",
    "</div>\n",
    "</div>"
   ]
  },
  {
   "cell_type": "markdown",
   "metadata": {},
   "source": [
    "<h2 style=\"text-align:center\">Short Breakdown of NCAR HPC Systems</h2>"
   ]
  },
  {
   "cell_type": "markdown",
   "metadata": {},
   "source": [
    "<div style=\"margin-left: 5%; margin-right:5%;\" id=\"holding_div\">\n",
    "<div style=\"display:table-row;\" id=\"row_div\">\n",
    "<div style=\"background-color:#ceffff; height:600px; display:table-cell; width:50%;\" id=\"column_div_1\">\n",
    "<br>\n",
    "    <div style=\"margin-left:5%;\">\n",
    "<h3>HPC-Simulation</h3>\n",
    "    <h3>Cheyenne</h3> <p>- 4032 node</p>\n",
    "<ul>\n",
    "    <li>2-socket 18-core Intel Broadwell Xeon CPUs</li>\n",
    "    <li>3164 nodes with 64 GB mem</li>\n",
    "    <li>864 nodes with 128 GB mem</li>\n",
    "    <li>SUSE Enterprise Linux 12</li>\n",
    "    <li>PBS job scheduler</li>\n",
    "</ul>\n",
    "<br>\n",
    "    </div>\n",
    "</div>\n",
    "\n",
    "<div style=\"background-color:#a7f9b9; height:600px;display:table-cell;width:50%;\" id=\"column_div_2\">\n",
    "<br>\n",
    "    <div style=\"margin-left:5%;\">\n",
    "<h3>Data Analysis, Visualization (DAV) Machine Learning/Deep Learning</h3>\n",
    "    <h3>Casper</h3> <p>- 26 nodes featuring:</p>\n",
    "<ul>\n",
    "    <li>2-socket 18-core Intel Skylake</li>\n",
    "    <li>2 TB local NVMe SSD storage</li>\n",
    "    <li>CentOS 7 Linux</li>\n",
    "    <li>Slurm job scheduler</li>\n",
    "</ul>\n",
    "    <p>GPUs available:</p>\n",
    "    <ul>\n",
    "        <li>8 nodes - 1 NVIDIA GP100</li>\n",
    "        <li>2 nodes - 4 NVIDIA Tesla V100s</li>\n",
    "        <li>2 nodes - 8 NVIDIA Tesla V100s</li>\n",
    "    </ul>\n",
    "<br>\n",
    "</div>\n",
    "</div>\n",
    "    </div>\n",
    "    </div>"
   ]
  },
  {
   "cell_type": "markdown",
   "metadata": {},
   "source": [
    "<h2 style=\"text-align:center;\">Logging into the HPC Environment</h2>\n",
    "<ul>\n",
    "    <li>Use your authentication token (yubikey, Duo) and your username to login:<br>\n",
    "        <p>ssh -X -l username cheyenne.ucar.edu</p></li>\n",
    "    <li>You will be placed onto one of six login nodes</li>\n",
    "    <li>Your default shell istcsh, but you can switch your default shell at <a href=\"sam.ucar.edu\">sam.ucar.edu</a></li>\n",
    "    <li>cron jobs (scheduled recurring tasks) are shared among all login nodes</li>\n",
    "</ul>\n",
    "<p>Please note that login nodes are merely an entry point. To get to your home directory. Please run code and jobs from your work or scratch directory that will eb introduced later.</p>"
   ]
  },
  {
   "cell_type": "code",
   "execution_count": null,
   "metadata": {},
   "outputs": [],
   "source": [
    "# Demonstration of login command\n",
    "# Replace [$USER] with your username when running the script\n",
    "ssh -X -l [$USER] cheyenne.ucar.edu"
   ]
  },
  {
   "cell_type": "markdown",
   "metadata": {},
   "source": [
    "<p>Note: If you are using a CISL computer in which your username on the computer's account is the same as the username that you utilize for the accessing NCAR services, then you can avoid putting your NCAR username in the bash script to ssh into the HPC systems.</p>"
   ]
  },
  {
   "cell_type": "markdown",
   "metadata": {},
   "source": [
    "<h2 style=\"text-align:center;\">Be Aware of Your Usage of Shared Resources such as Login Nodes</h2>\n",
    "<ul>\n",
    "<li>Your programs coexist with those fo 10-100s of other users for processing and memory</li>\n",
    "<li>Therefore, limit your usage to:\n",
    "<ul>\n",
    "<li>Reading and writing text/code</li>\n",
    "<li>Compiling smaller programs</li>\n",
    "<li>Performing data transfers</li>\n",
    "<li>Interactig with the job scheduler</li>\n",
    "</ul>\n",
    "<li>Programs that use excessive resources on the login nodes will be terminated</li>\n",
    "</ul>\n",
    "<p>Please do not attempt any commands that would involve sudo/root priveleges on the HPC system. Instead, use commands and methods that do not require sudo/root priveleges.</p>"
   ]
  },
  {
   "cell_type": "markdown",
   "metadata": {},
   "source": [
    "<h2 style=\"text-align:center\">Personal Data Storage at NCAR</h2>"
   ]
  },
  {
   "cell_type": "markdown",
   "metadata": {},
   "source": [
    "<h3>GLADE Parallel Hard-disk Storage</h3>\n",
    "<ul>\n",
    "    <li>Optimized for parallel input/output</li>\n",
    "    <li>Accessible from all HPC systems</li>\n",
    "</ul>\n",
    "<div style=\"background-color:#a7f9b9\">\n",
    "<br>\n",
    "<table>\n",
    "    <tr><th>File Space</th><th>Quota</th><th>Backup</th><th>Uses</th></tr>\n",
    "    <tr><td>Home /glade/u/home/USER</td><td>25GB</td><td>Yes</td><td>Settings,code,scripts</td></tr>\n",
    "    <tr><td>Work /glade/work/USER</td><td>1TB</td><td>No</td><td>Compiled codes, models</td></tr>\n",
    "    <tr><td>Flash /glade/flash/USER</td><td>N/A</td><td>No</td><td>Fast temp space (By request)</td></tr>\n",
    "    <tr><td>Scratch /glade/scratch/USER</td><td>10TB</td><td>Purged!</td><td>Run directories, temp output</td></tr>\n",
    "</table>\n",
    "<br>\n",
    "</div>"
   ]
  },
  {
   "cell_type": "markdown",
   "metadata": {},
   "source": [
    "Note that USER is equivalent to $USER in the chart above."
   ]
  },
  {
   "cell_type": "markdown",
   "metadata": {},
   "source": [
    "<p>To navigate to these directories, use the <code>cd</code> command followed by the directory or subdirectory as an argument. To see where you are in directories or subdirectories, use the <code>pwd</code> command.</p>"
   ]
  },
  {
   "cell_type": "code",
   "execution_count": null,
   "metadata": {},
   "outputs": [],
   "source": [
    "#Demonstration of cd and pwd command\n",
    "#You can change $USER to your username\n",
    "echo \"The present working directory:\"\n",
    "pwd\n",
    "echo \"Change directory to Work:\"\n",
    "cd /glade/work/home/$USER\n",
    "pwd\n",
    "echo \"Change directory to Flash:\"\n",
    "cd /glade/work/flash/$USER\n",
    "pwd\n",
    "echo \"Change directory to Scratch:\"\n",
    "cd /glade/work/scratch/$USER\n",
    "pwd\n",
    "echo \"Change directory to Home:\"\n",
    "cd /glade/u/home/$USER\n",
    "pwd"
   ]
  },
  {
   "cell_type": "markdown",
   "metadata": {},
   "source": [
    "<p>To keep track of your resources utilizing GLADE, use the <code>gladequota</code> command.</p>"
   ]
  },
  {
   "cell_type": "code",
   "execution_count": null,
   "metadata": {},
   "outputs": [],
   "source": [
    "#Demonstration of the gladequota command\n",
    "echo \"Will print out the glade resource usage.\"\n",
    "gladequota"
   ]
  },
  {
   "cell_type": "markdown",
   "metadata": {},
   "source": [
    "<p>Above is the utilization of your GLADE resources. Remember to keep track of these reources to ensure that you are not overutilizing GLADE resources.</p>"
   ]
  },
  {
   "cell_type": "markdown",
   "metadata": {},
   "source": [
    "<h2 style=\"text-align: center;\">Collaborative and Long-term Storage</h2>\n",
    "<ul>\n",
    "    <li>Dedicated GLADE project spaces.</li>\n",
    "    <li>Campaign Storage for publication-scale storage lifespans (5-year purge).</li>\n",
    "    <li>HPSS tape archive for cold archival.</li>\n",
    "</ul>\n",
    "<p>Access to these spaces is contingent on your project/lab status. See our web documentation for more details."
   ]
  },
  {
   "cell_type": "markdown",
   "metadata": {},
   "source": [
    "<h2 style=\"text-align: center;\">Moving Data to and from GLADE</h2>\n",
    "<ul>\n",
    "    <li>For short transfers, you can use scp/sftp to transfer files</li>\n",
    "    <li>Large or lengthy transfers will benefit from Globus</li>\n",
    "    <ul>\n",
    "        <li>To use Globus, create a Globus ID if you do not have one, and search for NCAR GLADE or NCAR Campaign Storage endpoints</li>\n",
    "        <li>CISL endpoints currently can be activated for up to 30-days</li>\n",
    "        <li>Globus has a web interface and a command-line interface</li>\n",
    "        <li>Globus Connect Personal can manage transfers from your local workstation as well</li>\n",
    "    </ul>\n",
    "    <li>Transfers to and from the HPSS tape archive are made using the HSI interface and HTAR utility</li>\n",
    "</ul>"
   ]
  },
  {
   "cell_type": "markdown",
   "metadata": {},
   "source": [
    "<p style=\"text-align:center; font-weight:bold\">See GLADE tutorial conducted at 10 AM on January 17th for more details on storage!</p>"
   ]
  },
  {
   "cell_type": "markdown",
   "metadata": {},
   "source": [
    "<h2 style=\"text-align:center;\"> CISL Builds Software for Users to Load with Environment Modules</h2>\n",
    "<ul>\n",
    "    <li>Modules provide access to program binaries (e.g., ncl, Python, ifort)</li>\n",
    "    <li>Many modules will help you compile and link to common libraries (e.g., netCDF, MPI)</li>\n",
    "    <li>Modules also prevent you from loading conflicting software into your environment</li>\n",
    "    <li>Note that Cheyenne and Casper each have independent collections of modules!</li>\n",
    "</ul>\n",
    "    "
   ]
  },
  {
   "cell_type": "markdown",
   "metadata": {},
   "source": [
    "<h2 style=\"text-align:center\">Using Environment Modules</h2>\n",
    "<ul>\n",
    "    <li><code>module load/unload [software]</code> - load and unload software (ex: Python, MatLab)</li>\n",
    "    <li><code>module avail</code> - show all currently-loadable modules</li>\n",
    "    <li><code>module list</code> - show loaded modules</li>\n",
    "    <li><code>module purge</code> - remove all loaded modules</li>\n",
    "    <li><code>module save/restore [name]</code> - create/load a saved set of software</li>\n",
    "    <li><code>module spider [software]</code> - search for a particular module</li>\n",
    "</ul>"
   ]
  },
  {
   "cell_type": "code",
   "execution_count": null,
   "metadata": {},
   "outputs": [
    {
     "name": "stdout",
     "output_type": "stream",
     "text": [
      "\u001b[m\n",
      "---------------- /glade/u/apps/ch/modulefiles/default/compilers ----------------\u001b[m\n",
      "   gnu/4.9.2        gnu/7.2.0       intel/17.0.1 (\u001b[1;33mL\u001b[0m,D)    pgi/17.5\u001b[m\n",
      "   gnu/6.2.0        gnu/7.3.0       intel/18.0.1          pgi/17.9 (D)\u001b[m\n",
      "   gnu/6.3.0 (D)    gnu/8.1.0       intel/18.0.5\u001b[m\n",
      "   gnu/6.4.0        intel/16.0.1    intel/19.0.2\u001b[m\n",
      "   gnu/7.1.0        intel/16.0.3    pgi/16.5\u001b[m\n",
      "\u001b[m\n",
      "------------------ /glade/u/apps/ch/modulefiles/default/idep -------------------\u001b[m\n",
      "   R/3.3.2                       joe/4.1\u001b[m\n",
      "   R/3.4.0                       julia/0.6.2       (D)\u001b[m\n",
      "   R/3.5.2                (D)    julia/1.0.0\u001b[m\n",
      "   allinea-forge/7.0.4           matlab/R2015b\u001b[m\n",
      "   allinea-forge/7.1             matlab/R2016b\u001b[m\n",
      "   allinea-forge/18.0.2   (D)    matlab/R2018a\u001b[m\n",
      "   allinea-reports/7.0.4         matlab/R2019a     (D)\u001b[m\n",
      "   allinea-reports/7.1           multijob/1.0\u001b[m\n",
      "   allinea-reports/18.0.2 (D)    nano/2.7.4\u001b[m\n",
      "   arm-forge/18.1.2              ncarenv/1.0\u001b[m\n",
      "   arm-forge/19.0.3       (D)    ncarenv/1.1\u001b[m\n",
      "   arm-reports/18.1.2            ncarenv/1.2       (\u001b[1;33mL\u001b[0m,D)\u001b[m\n",
      "   arm-reports/19.0.3     (D)    nco/4.6.2\u001b[m\n",
      "   atlas/3.10.3                  nco/4.6.9\u001b[m\n"
     ]
    }
   ],
   "source": [
    "#Demonstrating module avail\n",
    "module avail"
   ]
  },
  {
   "cell_type": "code",
   "execution_count": 1,
   "metadata": {},
   "outputs": [],
   "source": [
    "#Demonstrating module load (the argument is the piece of software that you are loading)\n",
    "module load matlab"
   ]
  },
  {
   "cell_type": "code",
   "execution_count": 2,
   "metadata": {},
   "outputs": [
    {
     "name": "stdout",
     "output_type": "stream",
     "text": [
      "\u001b[m\n",
      "Currently Loaded Modules:\u001b[m\n",
      "  1) ncarenv/1.2           4) mpt/2.19       7) matlab/R2019a\u001b[m\n",
      "  2) intel/17.0.1          5) netcdf/4.6.1\u001b[m\n",
      "  3) ncarcompilers/0.4.1   6) python/3.6.8\u001b[m\n",
      "\u001b[m\n",
      " \u001b[m\n",
      "\u001b[m\n",
      "\u001b[K\u001b[?1l\u001b>"
     ]
    }
   ],
   "source": [
    "#Demonstrate module list\n",
    "module list"
   ]
  },
  {
   "cell_type": "code",
   "execution_count": 3,
   "metadata": {},
   "outputs": [],
   "source": [
    "#Demonstrate module unload\n",
    "module unload matlab"
   ]
  },
  {
   "cell_type": "code",
   "execution_count": null,
   "metadata": {},
   "outputs": [
    {
     "name": "stdout",
     "output_type": "stream",
     "text": [
      "\u001b[m\n",
      "----------------------------------------------------------------------------\u001b[m\n",
      "  python:\u001b[m\n",
      "----------------------------------------------------------------------------\u001b[m\n",
      "     Versions:\u001b[m\n",
      "        python/2.7.13\u001b[m\n",
      "        python/2.7.14\u001b[m\n",
      "        python/2.7.15\u001b[m\n",
      "        python/3.6.2\u001b[m\n",
      "        python/3.6.4\u001b[m\n",
      "        python/3.6.8\u001b[m\n",
      "     Other possible modules matches:\u001b[m\n",
      "        netcdf4-python  wrf-python\u001b[m\n",
      "\u001b[m\n",
      "----------------------------------------------------------------------------\u001b[m\n",
      "  To find other possible module matches execute:\u001b[m\n",
      "\u001b[m\n",
      "      $ module -r spider '.*python.*'\u001b[m\n",
      "\u001b[m\n",
      "----------------------------------------------------------------------------\u001b[m\n",
      "  For detailed information about a specific \"python\" module (including how to lo\u001b[mad the modules) use the module's full name.\u001b[m\n",
      "  For example:\u001b[m\n"
     ]
    }
   ],
   "source": [
    "#Demonstrate module spider (software you are looking for is the argument)\n",
    "module spider python"
   ]
  },
  {
   "cell_type": "code",
   "execution_count": 1,
   "metadata": {},
   "outputs": [
    {
     "name": "stdout",
     "output_type": "stream",
     "text": [
      "Saved current collection of modules to: \"mod_config_1\", for system: \"ch\"\n",
      "\n"
     ]
    }
   ],
   "source": [
    "#Saving a module set using the module save command\n",
    "#All modules to be saved should be already loaded\n",
    "module save mod_config_1"
   ]
  },
  {
   "cell_type": "code",
   "execution_count": 5,
   "metadata": {},
   "outputs": [
    {
     "name": "stdout",
     "output_type": "stream",
     "text": [
      "No modules loaded\u001b[m\n",
      "\u001b[K\u001b[?1l\u001b>"
     ]
    }
   ],
   "source": [
    "#Demonstate module purge (module purge has no output)\n",
    "module purge\n",
    "module list"
   ]
  },
  {
   "cell_type": "code",
   "execution_count": 6,
   "metadata": {},
   "outputs": [
    {
     "name": "stdout",
     "output_type": "stream",
     "text": [
      "Restoring modules from user's mod_config_1, for system: \"ch\"\n",
      "\u001b[m\n",
      "Currently Loaded Modules:\u001b[m\n",
      "  1) ncarenv/1.2    3) ncarcompilers/0.4.1   5) netcdf/4.6.1\u001b[m\n",
      "  2) intel/17.0.1   4) mpt/2.19              6) python/3.6.8\u001b[m\n",
      "\u001b[m\n",
      " \u001b[m\n",
      "\u001b[m\n",
      "\u001b[K\u001b[?1l\u001b>"
     ]
    }
   ],
   "source": [
    "#Restoring a set of saved software utilizing module restore (module list being used to show restored modules)\n",
    "module restore mod_config_1\n",
    "module list"
   ]
  },
  {
   "cell_type": "code",
   "execution_count": 1,
   "metadata": {},
   "outputs": [],
   "source": [
    "module delete mod_config_1\n",
    "module purge"
   ]
  },
  {
   "cell_type": "markdown",
   "metadata": {},
   "source": [
    "<p>Memorizing and/or keeping note of this commands can make interacting with the HPC systems at NCAR a lot smoother. Also, saving module configurations that are likely to be used repeatedly can cut dwn on preparation time.</p>\n",
    "<p style=\"font-weight:bold;\">It is not recommended that more modules than are needed for a given task are loaded. Conserve your resources please.</p>"
   ]
  },
  {
   "cell_type": "markdown",
   "metadata": {},
   "source": [
    "<h2 style=\"text-align:center;\">Considerations when Compiling Software</h2>\n",
    "<ul>\n",
    "<li>Use <style=\"text-weight:bold;\">ncarcompilers</style> module along with libraries to simplify compiling and linking (adds include and link flags for you)</li>\n",
    "<li>When using MPI, make sure you run with the same library with which you compiled your parallel code</li>\n",
    "<li style=\"text-weight:bold;\">CISL recommends building code for the machine on which you will run</li>\n",
    "    <ul>\n",
    "        <li>Cheyenne and Casper have different CPUs and operating systems</li>\n",
    "    </ul>\n",
    "</ul>"
   ]
  },
  {
   "cell_type": "markdown",
   "metadata": {},
   "source": [
    "<h2 style=\"text-align:center;\">Run Large Tasks on Compute Nodes Using Batch Jobs</h2>\n",
    "<ul>\n",
    "    <li>Many tasks require too many resources to run on a login node</li>\n",
    "    <li>Schedule these tasks to run on the Cheyenne compute nodes using PBS or on Casper nodes using Slurm</li>\n",
    "    <li>Jobs request a given number of compute tasks for an estimated wall-time on specified hardware</li>\n",
    "    <li>Jobs use core-hours, which are charged against your selected project/account</li>\n",
    "    <ul>\n",
    "        <li>Remaining resources are viewable in SAM</li>\n",
    "    </ul>\n",
    "    <li>Temporary files are often written by programs - set TMPDIR variable to scratch space to avoid job failures</li>\n",
    "</ul>"
   ]
  },
  {
   "cell_type": "markdown",
   "metadata": {},
   "source": [
    "<div style=\"background-color:#84d0ff;\">\n",
    "<h2 style=\"text-align:center;\">Example PBS Job Script</h2>\n",
    "</div>"
   ]
  },
  {
   "cell_type": "code",
   "execution_count": null,
   "metadata": {},
   "outputs": [],
   "source": [
    "$ cat > basic_mpi.pbs << EOF"
   ]
  },
  {
   "cell_type": "raw",
   "metadata": {},
   "source": [
    "#!/bin/tcsh\n",
    "#PBS -N hello_pbs\n",
    "#PBS -A <project_code>\n",
    "#PBS -j oe\n",
    "#PBS -o pbsjob.log\n",
    "#PBS -q regular\n",
    "#PBS -l walltime=00:05:00\n",
    "#PBS -l select=2:ncpus=8:mpiprocs=8\n",
    "### Set temp to scratch\n",
    "setenv TMPDIR /glade/scratch/${USER}/temp\n",
    "mkdir -p $TMPDIR\n",
    "module load mpt/2.15f\n",
    "### Run MPT MPI Program\n",
    "mpiexec_mpt ./hello_world"
   ]
  },
  {
   "cell_type": "markdown",
   "metadata": {},
   "source": [
    "<div style=\"background-color:#84d0ff\">\n",
    "<h2 style=\"text-align:center;\">Example Slurm Job Script</h2>\n",
    "</div>"
   ]
  },
  {
   "cell_type": "raw",
   "metadata": {},
   "source": [
    "$ cat basic_mpi.slurm"
   ]
  },
  {
   "cell_type": "raw",
   "metadata": {},
   "source": [
    "#!/bin/tcsh\n",
    "#SBATCH -J hello_slurm\n",
    "#SBATCH -A <project_code>\n",
    "#SBATCH -o slurmjob.log\n",
    "#SBATCH -p dav\n",
    "#SBATCH -t 00:05:00\n",
    "#SBATCH -N 2\n",
    "#SBATCH --ntasks-per-node=8\n",
    "### Set temp to scratch\n",
    "setenv TMPDIR /glade/scratch/${USER}/temp\n",
    "mkdir -p $TMPDIR\n",
    "module load openmpi/3.1.2\n",
    "### Run Open MPI Program\n",
    "srun ./hello_world"
   ]
  },
  {
   "cell_type": "raw",
   "metadata": {},
   "source": [
    "$ cat basic_mpi.slurm"
   ]
  },
  {
   "cell_type": "raw",
   "metadata": {},
   "source": [
    "#!/bin/bash -l\n",
    "#SBATCH -J hello_slurm\n",
    "..."
   ]
  },
  {
   "cell_type": "code",
   "execution_count": null,
   "metadata": {},
   "outputs": [],
   "source": [
    "vi text.txt | display"
   ]
  },
  {
   "cell_type": "markdown",
   "metadata": {},
   "source": [
    "<h2 style=\"text-align:center;\">Interacting with the Job Schedulers</h2>"
   ]
  },
  {
   "cell_type": "markdown",
   "metadata": {},
   "source": [
    "<h3>PBS on Cheyenne</h3>\n",
    "<p><code>qsub [script]</code> - submit batch job</p>\n",
    "<p><code>qstat [jobid]</code> - query job status</p>\n",
    "<p><code>qdel [jobid]</code> - delete/kill a job</p>\n",
    "<p><code>qinteractive -A [project]</code> - Run an interactive job</p>\n",
    "<p><code>qcmd -A [project] -- cmd.exe</code> - Run a command on a single compute node</p>"
   ]
  },
  {
   "cell_type": "markdown",
   "metadata": {},
   "source": [
    "<h3>Slurm on DAV</h3>\n",
    "<p><code>sbatch [script]</code> - submit batch job</p>\n",
    "<p><code>squeue -j [jobid]</code> - query job status</p>\n",
    "<p><code>scancel [jobid]</code> - delete/kill a job</p>\n",
    "<p><code>execdav -A [project]</code> - Run interactive job on DAV</p>\n",
    "<br>\n",
    "<p><i>See our Casper tutorial and documentation for more details on requesting memory/GPUs with the execdav utility</i></p>"
   ]
  },
  {
   "cell_type": "markdown",
   "metadata": {},
   "source": [
    "<h2 style=\"text-align:center;\"> Using threads/OpenMP Parallelism on Cheyenne with MPT</h2>"
   ]
  },
  {
   "cell_type": "markdown",
   "metadata": {},
   "source": [
    "<div style=\"background-color:#84d0ff;\">\n",
    "<h3>Only OpenMP</h3>\n",
    "</div>"
   ]
  },
  {
   "cell_type": "code",
   "execution_count": null,
   "metadata": {},
   "outputs": [],
   "source": [
    "#!/bin/tcsh\n",
    "#PBS -l select=1:ncpus=10:ompthreads=10\n",
    "module load mpt/2.19f\n",
    "# Run program with 10 threads\n",
    "omplace ./executable_name"
   ]
  },
  {
   "cell_type": "markdown",
   "metadata": {},
   "source": [
    "<div style=\"background-color:#84d0ff;\">\n",
    "<h3>Hybrid MPI/OpenMP</h3>\n",
    "</div>"
   ]
  },
  {
   "cell_type": "code",
   "execution_count": null,
   "metadata": {},
   "outputs": [],
   "source": [
    "#!/bin/tcsh\n",
    "#PBS -l select=2:ncpus=36:mpiprocs=1:ompthreads=36\n",
    "module load mpt/2.19f\n",
    "# Run program with one MPI task and 36 OpenMP\n",
    "# threads per node (two nodes)\n",
    "mpiexec_mpt omplace ./executable_name"
   ]
  },
  {
   "cell_type": "markdown",
   "metadata": {},
   "source": [
    "<h2 style=\"text-align:center;\">Running Serial Code on Multiple Data Files Using Command File Jobs</h2>"
   ]
  },
  {
   "cell_type": "markdown",
   "metadata": {},
   "source": [
    "<div style=\"background-color:#84d0ff;\">\n",
    "<h3>cmdfile contents</h3>\n",
    "</div>"
   ]
  },
  {
   "cell_type": "code",
   "execution_count": null,
   "metadata": {},
   "outputs": [],
   "source": [
    "./cmd1.exe < input1 > output1\n",
    "./cmd2.exe < input2 > output2\n",
    "./cmd3.exe < input3 > output3\n",
    "./cmd4.exe < input4 > output4"
   ]
  },
  {
   "cell_type": "markdown",
   "metadata": {},
   "source": [
    "<div style=\"background-color:#84d0ff;\">\n",
    "<h3>PBS Job script</h3>\n",
    "</div>"
   ]
  },
  {
   "cell_type": "code",
   "execution_count": null,
   "metadata": {},
   "outputs": [],
   "source": [
    "#!/bin/tcsh\n",
    "#PBS -l select=1:ncpus=4:mpiprocs=4\n",
    "module load mpt/2.15f\n",
    "# This setting is required to use command files\n",
    "setenv MPI_SHEPHERD true\n",
    "mpiexec_mpt launch_cf.sh cmdfile"
   ]
  },
  {
   "cell_type": "markdown",
   "metadata": {},
   "source": [
    "<p><i>Note: Optimal if commands have similar runtimes</i></p>"
   ]
  },
  {
   "cell_type": "markdown",
   "metadata": {},
   "source": [
    "<h2 style=\"text-align:center;\">Placing Casper Jobs on Specific Resources</h2>"
   ]
  },
  {
   "cell_type": "markdown",
   "metadata": {},
   "source": [
    "<div style=\"background-color:#84d0ff;\">\n",
    "<h3>Casper Jobs on Specific Resources</h3>\n",
    "</div>"
   ]
  },
  {
   "cell_type": "raw",
   "metadata": {},
   "source": [
    "$ cat gpu_job.slurm"
   ]
  },
  {
   "cell_type": "raw",
   "metadata": {},
   "source": [
    "#!/bin/tcsh\n",
    "#SBATCH -J sample_gpu\n",
    "#SBATCH -n 6\n",
    "#SBATCH --ntasks-per-node=3\n",
    "#SBATCH -t 05:00\n",
    "#SBATCH -A <project_code>\n",
    "#SBATCH -p dav\n",
    "#SBATCH -C v100\n",
    "#SBATCH --mem=100G\n",
    "#SBATCH --gres=gpu:v100:2\n",
    "..."
   ]
  },
  {
   "cell_type": "markdown",
   "metadata": {},
   "source": [
    "<ul>\n",
    "    <li>This job can only run on a node with 100 GB of free memory and 2 V100 GPUs</li>\n",
    "    <li>If multiple resources are specified they must be compatible</li>\n",
    "    <ul>\n",
    "        <li>Otherwise, job will be stuck in a pending state</li>\n",
    "    </ul>\n",
    "</ul>"
   ]
  },
  {
   "cell_type": "markdown",
   "metadata": {},
   "source": [
    "<h2 style=\"text-align:center;\">PBS Job Submission Queues</h2>"
   ]
  },
  {
   "cell_type": "markdown",
   "metadata": {},
   "source": [
    "<div style=\"background-color:#ceffff\">\n",
    "    <br>\n",
    "<table>\n",
    "    <tr><th>PBS Queue</th><th>Priority</th><th>Wall Clock</th><th>Details</th></tr>\n",
    "    <tr><td>premium</td><td>1</td><td>12 h</td><td>Jobs are charged at 150% of regular rate</td></tr>\n",
    "    <tr><td>regular</td><td>2</td><td>12 h</td><td>Most production compute jobs go here</td></tr>\n",
    "    <tr><td>economy</td><td>3</td><td>12 h</td><td>Jobs are charged at 70% of regular rate</td></tr>\n",
    "    <tr><td>share</td><td>N/A</td><td>6 h</td><td>Memory is shared among all users on a node Jobs are limited to 18 cores or less</td></tr>\n",
    "</table>\n",
    "    <br>\n",
    "</div>"
   ]
  },
  {
   "cell_type": "markdown",
   "metadata": {},
   "source": [
    "<p><i>Jobs charges depend on the queue:</i></p>\n",
    "<p><i>Exclusive:</i> wall-clock hours X nodes X 36 cores/node X queue factor</p>\n",
    "<p><i>Shared:</i> core-seconds / 3600 (DAV jobs are shared as well)</p>"
   ]
  },
  {
   "cell_type": "markdown",
   "metadata": {},
   "source": [
    "<h2 style=\"text-align:center;\">When Running Programs with GUI (e.g., VAPOR), use a TurboVNC Session</h2>"
   ]
  },
  {
   "cell_type": "markdown",
   "metadata": {},
   "source": [
    "<p>VNC can be used to run a remote GNOME/KDE desktop.</p>\n",
    "<p>Usage:</p>"
   ]
  },
  {
   "cell_type": "code",
   "execution_count": null,
   "metadata": {},
   "outputs": [],
   "source": [
    "vncserver_submit -a [project]"
   ]
  },
  {
   "cell_type": "markdown",
   "metadata": {},
   "source": [
    "<p>(or set DAV_PROJECT environment variable)</p>"
   ]
  },
  {
   "cell_type": "markdown",
   "metadata": {},
   "source": [
    "<h2 style=\"text-align:center;\"> Shell Startup Files - Customizing Your Default Environment</h2>"
   ]
  },
  {
   "cell_type": "markdown",
   "metadata": {},
   "source": [
    "<h3>tcsh/csh</h3>"
   ]
  },
  {
   "cell_type": "raw",
   "metadata": {},
   "source": [
    "$ cat ~/.tcshrc"
   ]
  },
  {
   "cell_type": "raw",
   "metadata": {},
   "source": [
    "alias rm ”rm -i”\n",
    "# Add programs built for each cluster\n",
    "if ( $HOSTNAME =~ cheyenne* ) then\n",
    "   setenv PATH ~/local/ch/bin:$PATH\n",
    "else\n",
    "   setenv PATH ~/local/dav/bin:$PATH\n",
    "endif\n",
    "# Settings for interactive shells\n",
    "if ( $?prompt ) then\n",
    "   set prompt = \"%n@%m:%~\"\n",
    "endif"
   ]
  },
  {
   "cell_type": "markdown",
   "metadata": {},
   "source": [
    "<h3>bash</h3>"
   ]
  },
  {
   "cell_type": "raw",
   "metadata": {},
   "source": [
    "$ cat ~/.profile"
   ]
  },
  {
   "cell_type": "raw",
   "metadata": {},
   "source": [
    "alias rm=”rm -i”\n",
    "# Add programs built for each cluster\n",
    "if [[ $HOSTNAME == cheyenne* ]]; then\n",
    "   export PATH=~/local/ch/bin:$PATH\n",
    "else\n",
    "   export PATH=~/local/dav/bin:$PATH\n",
    "fi\n",
    "# Settings for interactive shells\n",
    "if [[ $- == *i* ]]; then\n",
    "   PS1=\"\\u@\\h:\\w> \"\n",
    "fi"
   ]
  },
  {
   "cell_type": "markdown",
   "metadata": {},
   "source": [
    "<h2 style=\"text-align:center;\">Changing Your Default Modules</h2>"
   ]
  },
  {
   "cell_type": "markdown",
   "metadata": {},
   "source": [
    "<ul>\n",
    "    <li>If you commonly load certain modules, you may wish to have them load automatically when logging onto a cluster</li>\n",
    "    <li>The right way to do so is with saved module sets:</li>\n",
    "    <ul>\n",
    "        <li><code>module load ncl python nco mkl</code></li>\n",
    "        <li><code>module save default</code></li>\n",
    "    </ul>\n",
    "    <li>You can manually load a module set using <code>module restore [set]</code></li>\n",
    "    <li> The <code>[set]</code> argument is the name of the module configuration you saved</li>\n",
    "    <li>Avoid putting module load commands in your shell startup files!</li>\n",
    "</ul>"
   ]
  },
  {
   "cell_type": "markdown",
   "metadata": {},
   "source": [
    "<div style=\"background-color:#40e0d0;\">\n",
    "<h2 style=\"text-align:center;\">CISL Help Desk/Consulting</h2>\n",
    "</div>"
   ]
  },
  {
   "cell_type": "markdown",
   "metadata": {},
   "source": [
    "<a href=\"https://www2.cisl.ucar.edu/user-support/getting-help\">https://www2.cisl.ucar.edu/user-support/getting-help</a>"
   ]
  },
  {
   "cell_type": "markdown",
   "metadata": {},
   "source": [
    "<ul>\n",
    "    <li>Walk-in: ML 1B Suite 55</li>\n",
    "    <li>Email: cislhelp@ucar.edu</li>\n",
    "    <li>Phone: 303-497-2400</li>\n",
    "</ul>\n",
    "<p>Specific questions and/or feedback in regard to thei material:</p>\n",
    "<ul>\n",
    "    <li>Email: vanderwb@ucar.edu</li>\n",
    "</ul>"
   ]
  },
  {
   "cell_type": "code",
   "execution_count": null,
   "metadata": {},
   "outputs": [],
   "source": []
  }
 ],
 "metadata": {
  "kernelspec": {
   "display_name": "Bash",
   "language": "bash",
   "name": "bash"
  },
  "language_info": {
   "codemirror_mode": "shell",
   "file_extension": ".sh",
   "mimetype": "text/x-sh",
   "name": "bash"
  }
 },
 "nbformat": 4,
 "nbformat_minor": 2
}
